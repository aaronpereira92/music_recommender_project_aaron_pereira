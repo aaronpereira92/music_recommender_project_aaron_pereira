{
 "cells": [
  {
   "cell_type": "markdown",
   "id": "6024386d",
   "metadata": {},
   "source": [
    "Welcome to the main Notebook made by Aaron Pereira for the GNOD project. In this notebook, I will demonstrate how the **song recommender** works, which is a function that I made in the previous lab. The function already imports all the necessary libraries for it to work. You can check that list of libraries in the _libraries folder, there is a txt file"
   ]
  },
  {
   "cell_type": "markdown",
   "id": "17a2a9a5",
   "metadata": {},
   "source": [
    "If you want to see more information on how the function is made, please have a look at the notebook: **lab_kmeans_clustering.ipynb**"
   ]
  },
  {
   "cell_type": "markdown",
   "id": "280360b2",
   "metadata": {},
   "source": [
    " "
   ]
  },
  {
   "cell_type": "markdown",
   "id": "31e9aae6",
   "metadata": {},
   "source": [
    "**VERY IMPORTANT** : You need the config file for your SpotifyAPI credentials login. The function will only work if this file is present. Thanks"
   ]
  },
  {
   "cell_type": "markdown",
   "id": "5d97eae8",
   "metadata": {},
   "source": [
    "**1.** I'm importing the song_recommender from the **functions.py** file present in the functions folder. "
   ]
  },
  {
   "cell_type": "code",
   "execution_count": 1,
   "id": "1aadaa1f",
   "metadata": {},
   "outputs": [],
   "source": [
    "from functions import song_recommender"
   ]
  },
  {
   "cell_type": "code",
   "execution_count": 2,
   "id": "6c63610e",
   "metadata": {},
   "outputs": [
    {
     "name": "stdout",
     "output_type": "stream",
     "text": [
      "Enter song name:\n",
      "DNA\n",
      "\n",
      "Please enter the correct track number from these choices:\n",
      " \n",
      "0 .'DNA.' by 'Kendrick Lamar' and the url is: https://open.spotify.com/track/6HZILIRieu8S0iqY8kIKhj\n",
      "1 .'DNA' by 'Lia Marie Johnson' and the url is: https://open.spotify.com/track/27vs845Zn0zgoFzwdksFfP\n",
      "2 .'DNA' by 'BTS' and the url is: https://open.spotify.com/track/3uRLwBjI2TahxslcMTvpFs\n",
      "3 .'528 Hz DNA Repair' by 'Miracle Tones' and the url is: https://open.spotify.com/track/150gInJ3Mcl1Y2zxqQPORX\n",
      "4 .'dna' by 'LANY' and the url is: https://open.spotify.com/track/2McTSCNNzxgDtAqiuibhPI\n",
      "5 .'528 Hz Anxiety Relief' by 'Miracle Tones' and the url is: https://open.spotify.com/track/0vFOH96oqw1YZUs7ev5PW4\n",
      "6 .'DNA.' by 'Kendrick Lamar' and the url is: https://open.spotify.com/track/1C1OBpwB6tRViTiWE2ZgNR\n",
      "7 .'Tom's Diner' by 'Suzanne Vega' and the url is: https://open.spotify.com/track/7f9sC9fvtjYSZYOLSmKJlq\n",
      "8 .'528 Hz Love Frequency' by 'Miracle Tones' and the url is: https://open.spotify.com/track/4ovQlgSLQsDpmE4SplH10J\n",
      "9 .'DNA' by 'BTS' and the url is: https://open.spotify.com/track/2ngmiq1KoYn3x25VOmvd8F\n",
      " \n",
      "Enter song number:\n",
      " \n",
      "0\n",
      " \n",
      "Here are your recommended tracks:\n",
      " \n",
      "'My Space' by 'Don Omar' and the url is: https://open.spotify.com/track/3zpGn3dWTFVLgJwf0Q2OA3\n",
      "'Kritiker' by 'Damion Davis' and the url is: https://open.spotify.com/track/2PHQSAjVaIGwUFFKlaz7yJ\n",
      "'Audemar (feat. Tracy T)' by 'Young Thug' and the url is: https://open.spotify.com/track/0NoQpbfJ6n7KUY2YlZI1j6\n",
      "'Pimp to Simp (Part 2)' by 'Disalusion' and the url is: https://open.spotify.com/track/5WbNfYVj3WZ5ZPB5iD8cep\n",
      "'Bubble World' by 'E. Smitty' and the url is: https://open.spotify.com/track/5d908plRJpbA3nfPSgbLzE\n",
      "'That's Facts' by 'Lil Baby' and the url is: https://open.spotify.com/track/6dug6dIV40JMz2myhafHrm\n",
      "'Poppin Shit' by 'Bankroll Fresh' and the url is: https://open.spotify.com/track/2IltUOkryvvEknHSN07N3d\n",
      "'Runnin Laps' by 'Japoe' and the url is: https://open.spotify.com/track/4hbNPqLrhb4cg4Nc2kSVyZ\n",
      "'Caged Bird' by 'J. Cole' and the url is: https://open.spotify.com/track/2GnE8rMDgfWBwGmwrUbCsQ\n",
      "'Detail' by 'Big Scarr' and the url is: https://open.spotify.com/track/6abapmVJBOExKbVgyoPO1b\n",
      " \n",
      "Do you want another recommendation? Yes or No\n",
      "Yes\n",
      "Enter song name:\n",
      "Heat Waves\n",
      "\n",
      "Please enter the correct track number from these choices:\n",
      " \n",
      "0 .'Heat Waves' by 'Glass Animals' and the url is: https://open.spotify.com/track/3USxtqRwSYz57Ewm6wWRMp\n",
      "1 .'Heat Waves' by 'Glass Animals' and the url is: https://open.spotify.com/track/4Tb2Qg2glVYvtvJJNNkPDL\n",
      "2 .'Heat Waves (with iann dior)' by 'Glass Animals' and the url is: https://open.spotify.com/track/7vZqwaSk4sVcDyZbMcxS8N\n",
      "3 .'Heat Waves' by 'Glass Animals' and the url is: https://open.spotify.com/track/02MWAaffLxlfxAUY7c5dvx\n",
      "4 .'Heat Waves (8-Bit Glass Animals Emulation)' by '8-Bit Arcade' and the url is: https://open.spotify.com/track/48kUqmx9rUGUo05P8eao2n\n",
      "5 .'Heat Waves - Slowed' by 'Glass Animals' and the url is: https://open.spotify.com/track/1K2RnVhm3eauKnA8PAcPu1\n",
      "6 .'Heat Waves' by 'Glass Animals' and the url is: https://open.spotify.com/track/6CDzDgIUqeDY5g8ujExx2f\n",
      "7 .'Heat Waves' by 'Kidz Bop Kids' and the url is: https://open.spotify.com/track/35brqeAB3nuUllo4EGoNkq\n",
      "8 .'Heat Waves - Diplo Remix' by 'Glass Animals' and the url is: https://open.spotify.com/track/6A53tLi9vpLhmgaEvzRyip\n",
      "9 .'Heat Waves' by 'Glass Animals' and the url is: https://open.spotify.com/track/1sC2aPRap0IAPocPJR1Wbr\n",
      " \n",
      "Enter song number:\n",
      " \n",
      "0\n",
      " \n",
      "Here are your recommended tracks:\n",
      " \n",
      "'Heat Waves' by 'Glass Animals' and the url is: https://open.spotify.com/track/3USxtqRwSYz57Ewm6wWRMp\n",
      "'Bam Bam (feat. Ed Sheeran)' by 'Camila Cabello' and the url is: https://open.spotify.com/track/0QBzMgT7NIeoCYy3sJCof1\n",
      "'You Right' by 'Doja Cat' and the url is: https://open.spotify.com/track/0k4d5YPDr1r7FX77VdqWez\n",
      "'love nwantiti (ah ah ah)' by 'CKay' and the url is: https://open.spotify.com/track/2Xr1dTzJee307rmrkt8c0g\n",
      "'Drunk (And I Don't Wanna Go Home)' by 'Elle King' and the url is: https://open.spotify.com/track/0QULNNd9z5s35entfiiXoa\n",
      "'HANDSOMER' by 'Russ' and the url is: https://open.spotify.com/track/4v1TTTCadimzZkTuDTnYBc\n",
      "'Broadway Girls (feat. Morgan Wallen)' by 'Lil Durk' and the url is: https://open.spotify.com/track/3DZ8dbKg4OTSSqGARvecYd\n",
      "'Heart On Fire' by 'Eric Church' and the url is: https://open.spotify.com/track/0ysCB1Jg4hli0XlEWlipo7\n",
      "'I Love You So' by 'The Walters' and the url is: https://open.spotify.com/track/4SqWKzw0CbA05TGszDgMlc\n",
      "'GIVE HEAVEN SOME HELL' by 'HARDY' and the url is: https://open.spotify.com/track/2bVeUlOC5JjTpkQXuUUoYm\n",
      " \n",
      "Do you want another recommendation? Yes or No\n",
      "No\n"
     ]
    }
   ],
   "source": [
    "song_recommender()"
   ]
  },
  {
   "cell_type": "code",
   "execution_count": null,
   "id": "371fdedf",
   "metadata": {},
   "outputs": [],
   "source": []
  }
 ],
 "metadata": {
  "kernelspec": {
   "display_name": "Python 3 (ipykernel)",
   "language": "python",
   "name": "python3"
  },
  "language_info": {
   "codemirror_mode": {
    "name": "ipython",
    "version": 3
   },
   "file_extension": ".py",
   "mimetype": "text/x-python",
   "name": "python",
   "nbconvert_exporter": "python",
   "pygments_lexer": "ipython3",
   "version": "3.7.11"
  }
 },
 "nbformat": 4,
 "nbformat_minor": 5
}
